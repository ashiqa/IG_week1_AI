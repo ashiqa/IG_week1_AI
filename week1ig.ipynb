{
  "nbformat": 4,
  "nbformat_minor": 0,
  "metadata": {
    "colab": {
      "name": "Copy of week1assignment.ipynb",
      "provenance": [],
      "collapsed_sections": []
    },
    "kernelspec": {
      "name": "python3",
      "display_name": "Python 3"
    }
  },
  "cells": [
    {
      "cell_type": "code",
      "metadata": {
        "id": "F-6bE0dYcBgA",
        "colab_type": "code",
        "colab": {}
      },
      "source": [
        "## Import stuff\n",
        " \n",
        "import numpy as np\n",
        "from sklearn import datasets, linear_model, metrics"
      ],
      "execution_count": 0,
      "outputs": []
    },
    {
      "cell_type": "code",
      "metadata": {
        "id": "gK71NIhMcEs5",
        "colab_type": "code",
        "colab": {}
      },
      "source": [
        "## Load the diabetes dataset\n",
        "diabetes = datasets.load_diabetes()\n",
        "diabetes_X = diabetes.data # matrix of dimensions 442x10\n",
        " \n",
        "# Split the data into training/testing sets\n",
        "diabetes_X_train = diabetes_X[:-20]\n",
        "diabetes_X_test = diabetes_X[-20:]\n",
        " \n",
        "# Split the targets into training/testing sets\n",
        "diabetes_y_train = diabetes.target[:-20]\n",
        "diabetes_y_test = diabetes.target[-20:]"
      ],
      "execution_count": 0,
      "outputs": []
    },
    {
      "cell_type": "code",
      "metadata": {
        "id": "XJTg22ybcHsl",
        "colab_type": "code",
        "outputId": "ebfbdffb-be7e-40f0-ad4f-b741bce54656",
        "colab": {
          "base_uri": "https://localhost:8080/",
          "height": 353
        }
      },
      "source": [
        "# train\n",
        "X = diabetes_X_train\n",
        "y = diabetes_y_train\n",
        " \n",
        "# train: init\n",
        "W = [0,0,0,0,0,0,0,0,0,0]\n",
        " \n",
        "learning_rate = 0.3\n",
        "epochs = 100000\n",
        "\n",
        "# train: gradient descent\n",
        "for i in range(epochs):\n",
        "    # calculate predictions\n",
        "    y_pred=np.dot(X,W)+b\n",
        " \n",
        "    # calculate error and cost (mean squared error)\n",
        "    error=y_pred-y\n",
        "    mean_squared_error= 1/(2*442)*(np.dot(error.T,error))\n",
        " \n",
        "    # calculate gradients\n",
        "\n",
        "    grad_W=(1/442)*(np.dot(X.T,error))\n",
        "    # update parameters\n",
        "   \n",
        "    W=W-learning_rate*grad_W\n",
        "    # diagnostic output\n",
        "    if i % 5000 == 0: print(\"Epoch %d: %f\" % (i, mean_squared_error))"
      ],
      "execution_count": 20,
      "outputs": [
        {
          "output_type": "stream",
          "text": [
            "Epoch 0: 2839.888028\n",
            "Epoch 5000: 1397.862061\n",
            "Epoch 10000: 1395.532920\n",
            "Epoch 15000: 1394.875804\n",
            "Epoch 20000: 1394.302293\n",
            "Epoch 25000: 1393.774595\n",
            "Epoch 30000: 1393.284148\n",
            "Epoch 35000: 1392.825684\n",
            "Epoch 40000: 1392.395512\n",
            "Epoch 45000: 1391.990910\n",
            "Epoch 50000: 1391.609763\n",
            "Epoch 55000: 1391.250351\n",
            "Epoch 60000: 1390.911218\n",
            "Epoch 65000: 1390.591087\n",
            "Epoch 70000: 1390.288814\n",
            "Epoch 75000: 1390.003354\n",
            "Epoch 80000: 1389.733744\n",
            "Epoch 85000: 1389.479085\n",
            "Epoch 90000: 1389.238538\n",
            "Epoch 95000: 1389.011315\n"
          ],
          "name": "stdout"
        }
      ]
    },
    {
      "cell_type": "code",
      "metadata": {
        "id": "uvSdTn-0cKJL",
        "colab_type": "code",
        "outputId": "7e9d1a50-a4a3-46e8-8283-dbe3f3b817cc",
        "colab": {
          "base_uri": "https://localhost:8080/",
          "height": 101
        }
      },
      "source": [
        "# test\n",
        "X = diabetes_X_test\n",
        "y = diabetes_y_test\n",
        " \n",
        "# calculate predictions + calculate error and cost (same code as above)\n",
        "y_pred=np.dot(X,W)+b\n",
        "error=y_pred-y\n",
        "mean_squared_error=(1/442)*np.dot(error.T,error)\n",
        "\n",
        "print('Coefficients: \\n', W)\n",
        "print(\"Mean squared error: %.2f\" % mean_squared_error)\n",
        "print(\"=\"*120)"
      ],
      "execution_count": 21,
      "outputs": [
        {
          "output_type": "stream",
          "text": [
            "Coefficients: \n",
            " [   2.55846298 -235.56718095  516.3599142   326.04609152 -373.37524664\n",
            "  144.20541916  -96.42742974  125.45409474  578.85274057   78.21293128]\n",
            "Mean squared error: 90.30\n",
            "========================================================================================================================\n"
          ],
          "name": "stdout"
        }
      ]
    }
  ]
}